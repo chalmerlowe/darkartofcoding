{
 "cells": [
  {
   "cell_type": "markdown",
   "metadata": {
    "slideshow": {
     "slide_type": "slide"
    }
   },
   "source": [
    "<h1>Welcome to the Dark Art of Coding:</h1>\n",
    "<h2>Automating with Python</h2>\n",
    "Chapter 07: Pattern matching with Regular Expressions"
   ]
  },
  {
   "cell_type": "markdown",
   "metadata": {
    "slideshow": {
     "slide_type": "slide"
    }
   },
   "source": [
    "<h1>Today's class</h1>\n",
    "<ul>\n",
    "<li><strong>Review and Questions?</strong></li>\n",
    "<li><strong>Objectives:</strong></li>\n",
    "<ul>\n",
    "    <li><strong>Example without RegEx</strong></li>\n",
    "    <li><strong>Example with RegEx</strong></li>\n",
    "    <li><strong>Debuggex</strong></li>\n",
    "</ul>\n",
    "</ul>"
   ]
  },
  {
   "cell_type": "markdown",
   "metadata": {
    "slideshow": {
     "slide_type": "slide"
    }
   },
   "source": [
    "<h1>Review and questions?</h1>\n",
    "<ul>\n",
    "    <li>Name two ways to include an apostrophe in a string</li>\n",
    "    <li>What syntax do you use to get the 5th item from a string</li>\n",
    "    <li>Name three methods associated with strings</li>\n",
    "</ul>\n"
   ]
  },
  {
   "cell_type": "markdown",
   "metadata": {
    "slideshow": {
     "slide_type": "slide"
    }
   },
   "source": [
    "<h1>What are *Regular Expressions*</h1>\n",
    "\n",
    "A regular expression is a special string used for pattern recognition and matching"
   ]
  },
  {
   "cell_type": "code",
   "execution_count": null,
   "metadata": {
    "collapsed": true,
    "slideshow": {
     "slide_type": "slide"
    }
   },
   "outputs": [],
   "source": [
    "# if we want to determine if a string is a phone number, \n",
    "# there are a number of tests that we can perform\n",
    "# Presume that we are using a number with the format: xxx-yyy-zzzz\n",
    "\n",
    "\n",
    "def isPhoneNumber(text):\n",
    "    if len(text) != 12:\n",
    "        return False"
   ]
  },
  {
   "cell_type": "code",
   "execution_count": null,
   "metadata": {
    "collapsed": false,
    "slideshow": {
     "slide_type": "fragment"
    }
   },
   "outputs": [],
   "source": [
    "    for i in range(0, 3):\n",
    "        if not text[i].isdecimal():\n",
    "            return False"
   ]
  },
  {
   "cell_type": "code",
   "execution_count": null,
   "metadata": {
    "collapsed": false,
    "slideshow": {
     "slide_type": "fragment"
    }
   },
   "outputs": [],
   "source": [
    "    if text[3] != '-':\n",
    "        return False"
   ]
  },
  {
   "cell_type": "code",
   "execution_count": null,
   "metadata": {
    "collapsed": true,
    "slideshow": {
     "slide_type": "fragment"
    }
   },
   "outputs": [],
   "source": [
    "    for i in range(4, 7):\n",
    "        if not text[i].isdecimal():\n",
    "            return False"
   ]
  },
  {
   "cell_type": "code",
   "execution_count": null,
   "metadata": {
    "collapsed": true,
    "slideshow": {
     "slide_type": "fragment"
    }
   },
   "outputs": [],
   "source": [
    "    if text[7] != '-':\n",
    "        return False"
   ]
  },
  {
   "cell_type": "code",
   "execution_count": null,
   "metadata": {
    "collapsed": true,
    "slideshow": {
     "slide_type": "fragment"
    }
   },
   "outputs": [],
   "source": [
    "    for i in range(8, 12):\n",
    "        if not text[i].isdecimal():\n",
    "            return False\n",
    "    return True"
   ]
  },
  {
   "cell_type": "code",
   "execution_count": 2,
   "metadata": {
    "collapsed": true,
    "slideshow": {
     "slide_type": "slide"
    }
   },
   "outputs": [],
   "source": [
    "def isPhoneNumber(text):\n",
    "    if len(text) != 12:\n",
    "        return False\n",
    "    for i in range(0, 3):\n",
    "        if not text[i].isdecimal():\n",
    "            return False\n",
    "    if text[3] != '-':\n",
    "        return False\n",
    "    for i in range(4, 7):\n",
    "        if not text[i].isdecimal():\n",
    "            return False\n",
    "    if text[7] != '-':\n",
    "        return False\n",
    "    for i in range(8, 12):\n",
    "        if not text[i].isdecimal():\n",
    "            return False\n",
    "    return True"
   ]
  },
  {
   "cell_type": "code",
   "execution_count": 3,
   "metadata": {
    "collapsed": false,
    "slideshow": {
     "slide_type": "slide"
    }
   },
   "outputs": [
    {
     "name": "stdout",
     "output_type": "stream",
     "text": [
      "Checking against: 465-814-0978\n",
      "True\n",
      "Checking against: not_a_number\n",
      "False\n"
     ]
    }
   ],
   "source": [
    "print('Checking against: 465-814-0978')\n",
    "print(isPhoneNumber('465-814-0978'))\n",
    "print('Checking against: not_a_number')\n",
    "print(isPhoneNumber('not_a_number'))"
   ]
  },
  {
   "cell_type": "code",
   "execution_count": 4,
   "metadata": {
    "collapsed": false,
    "slideshow": {
     "slide_type": "subslide"
    }
   },
   "outputs": [
    {
     "name": "stdout",
     "output_type": "stream",
     "text": [
      "Found number: 123-456-7890\n",
      "Found number: 098-765-4321\n"
     ]
    }
   ],
   "source": [
    "message = 'text me at 123-456-7890. call me at 098-765-4321'\n",
    "for i in range(len(message)):\n",
    "    chunk = message[i:i+12]\n",
    "    if isPhoneNumber(chunk):\n",
    "        print('Found number: ' + chunk)"
   ]
  },
  {
   "cell_type": "markdown",
   "metadata": {
    "slideshow": {
     "slide_type": "slide"
    }
   },
   "source": [
    "<h2>What do we do when the number format varies?</h2>\n",
    "\n",
    "456.789.0123\n",
    "\n",
    "(443) 554-6655\n",
    "\n",
    "098 629 7452"
   ]
  },
  {
   "cell_type": "code",
   "execution_count": 5,
   "metadata": {
    "collapsed": true,
    "slideshow": {
     "slide_type": "slide"
    }
   },
   "outputs": [],
   "source": [
    "import re\n",
    "\n",
    "phoneRegex = re.compile(r'\\d\\d\\d-\\d\\d\\d-\\d\\d\\d\\d') # We use a raw string because typing: r'\\d\\d\\d'\n",
    "                                                   # is easier than typing: '\\\\d\\\\d\\\\d'"
   ]
  },
  {
   "cell_type": "code",
   "execution_count": 6,
   "metadata": {
    "collapsed": false,
    "slideshow": {
     "slide_type": "fragment"
    }
   },
   "outputs": [
    {
     "name": "stdout",
     "output_type": "stream",
     "text": [
      "found numbers: 786-234-6273\n"
     ]
    }
   ],
   "source": [
    "mo = phoneRegex.search('My number is 786-234-6273')\n",
    "print('found numbers:', mo.group())"
   ]
  },
  {
   "cell_type": "code",
   "execution_count": 7,
   "metadata": {
    "collapsed": true,
    "slideshow": {
     "slide_type": "slide"
    }
   },
   "outputs": [],
   "source": [
    "phoneRegex = re.compile(r'(\\d\\d\\d)-(\\d\\d\\d-\\d\\d\\d\\d)')\n",
    "mo = phoneRegex.search('My number is 786-234-6273')"
   ]
  },
  {
   "cell_type": "code",
   "execution_count": 8,
   "metadata": {
    "collapsed": false,
    "slideshow": {
     "slide_type": "fragment"
    }
   },
   "outputs": [
    {
     "name": "stdout",
     "output_type": "stream",
     "text": [
      "786-234-6273\n"
     ]
    }
   ],
   "source": [
    "print(mo.group(0))"
   ]
  },
  {
   "cell_type": "code",
   "execution_count": 9,
   "metadata": {
    "collapsed": false,
    "slideshow": {
     "slide_type": "fragment"
    }
   },
   "outputs": [
    {
     "name": "stdout",
     "output_type": "stream",
     "text": [
      "786\n"
     ]
    }
   ],
   "source": [
    "print(mo.group(1))"
   ]
  },
  {
   "cell_type": "code",
   "execution_count": 10,
   "metadata": {
    "collapsed": false,
    "slideshow": {
     "slide_type": "fragment"
    }
   },
   "outputs": [
    {
     "name": "stdout",
     "output_type": "stream",
     "text": [
      "234-6273\n"
     ]
    }
   ],
   "source": [
    "print(mo.group(2))"
   ]
  },
  {
   "cell_type": "code",
   "execution_count": 11,
   "metadata": {
    "collapsed": true,
    "slideshow": {
     "slide_type": "fragment"
    }
   },
   "outputs": [],
   "source": [
    "areaCode, mainNumber = mo.groups()"
   ]
  },
  {
   "cell_type": "code",
   "execution_count": 12,
   "metadata": {
    "collapsed": false,
    "slideshow": {
     "slide_type": "fragment"
    }
   },
   "outputs": [
    {
     "name": "stdout",
     "output_type": "stream",
     "text": [
      "786\n",
      "234-6273\n"
     ]
    }
   ],
   "source": [
    "print(areaCode)\n",
    "print(mainNumber)"
   ]
  },
  {
   "cell_type": "code",
   "execution_count": 13,
   "metadata": {
    "collapsed": false,
    "slideshow": {
     "slide_type": "slide"
    }
   },
   "outputs": [
    {
     "name": "stdout",
     "output_type": "stream",
     "text": [
      "(808) 872-8204\n"
     ]
    }
   ],
   "source": [
    "phoneRegex = re.compile(r'(\\(\\d\\d\\d\\)) (\\d\\d\\d-\\d\\d\\d\\d)')\n",
    "mo = phoneRegex.search('(808) 872-8204')\n",
    "print(mo.group())"
   ]
  },
  {
   "cell_type": "code",
   "execution_count": 14,
   "metadata": {
    "collapsed": false,
    "slideshow": {
     "slide_type": "slide"
    }
   },
   "outputs": [
    {
     "name": "stdout",
     "output_type": "stream",
     "text": [
      "bat\n",
      "cat\n"
     ]
    }
   ],
   "source": [
    "multiRegex = re.compile(r'bat|cat')\n",
    "mo = multiRegex.search('batman and catwoman')\n",
    "print(mo.group())\n",
    "mo = multiRegex.search('catwoman and batman')\n",
    "print(mo.group())"
   ]
  },
  {
   "cell_type": "code",
   "execution_count": 15,
   "metadata": {
    "collapsed": false,
    "slideshow": {
     "slide_type": "fragment"
    }
   },
   "outputs": [
    {
     "name": "stdout",
     "output_type": "stream",
     "text": [
      "batmobile\n",
      "mobile\n"
     ]
    }
   ],
   "source": [
    "endRegex = re.compile(r'bat(man|mobile|arangs|bat)')\n",
    "mo = endRegex.search('Get in the batmobile!')\n",
    "print(mo.group())\n",
    "print(mo.group(1))"
   ]
  },
  {
   "cell_type": "code",
   "execution_count": 16,
   "metadata": {
    "collapsed": false,
    "slideshow": {
     "slide_type": "slide"
    }
   },
   "outputs": [
    {
     "data": {
      "text/plain": [
       "['726-282-0186', '873-193-8264']"
      ]
     },
     "execution_count": 16,
     "metadata": {},
     "output_type": "execute_result"
    }
   ],
   "source": [
    "phoneRegex = re.compile(r'\\d\\d\\d-\\d\\d\\d-\\d\\d\\d\\d')\n",
    "phoneRegex.findall('Home: 726-282-0186, Cell: 873-193-8264')"
   ]
  },
  {
   "cell_type": "code",
   "execution_count": 17,
   "metadata": {
    "collapsed": false,
    "slideshow": {
     "slide_type": "fragment"
    }
   },
   "outputs": [
    {
     "data": {
      "text/plain": [
       "[('726', '282', '0186'), ('873', '193', '8264')]"
      ]
     },
     "execution_count": 17,
     "metadata": {},
     "output_type": "execute_result"
    }
   ],
   "source": [
    "phoneRegex = re.compile(r'(\\d\\d\\d)-(\\d\\d\\d)-(\\d\\d\\d\\d)')\n",
    "phoneRegex.findall('Home: 726-282-0186, Cell: 873-193-8264')"
   ]
  },
  {
   "cell_type": "code",
   "execution_count": 18,
   "metadata": {
    "collapsed": false,
    "slideshow": {
     "slide_type": "slide"
    }
   },
   "outputs": [
    {
     "data": {
      "text/plain": [
       "'hahaha'"
      ]
     },
     "execution_count": 18,
     "metadata": {},
     "output_type": "execute_result"
    }
   ],
   "source": [
    "haRegex = re.compile(r'(ha){3}')\n",
    "haRegex.search('hahahahaha').group()"
   ]
  },
  {
   "cell_type": "code",
   "execution_count": 19,
   "metadata": {
    "collapsed": true,
    "slideshow": {
     "slide_type": "fragment"
    }
   },
   "outputs": [],
   "source": [
    "haRegex = re.compile(r'(ha){3,5}')"
   ]
  },
  {
   "cell_type": "code",
   "execution_count": 20,
   "metadata": {
    "collapsed": false,
    "slideshow": {
     "slide_type": "subslide"
    }
   },
   "outputs": [
    {
     "data": {
      "text/plain": [
       "'hahahahaha'"
      ]
     },
     "execution_count": 20,
     "metadata": {},
     "output_type": "execute_result"
    }
   ],
   "source": [
    "haRegex.search('hahahahaha').group()"
   ]
  },
  {
   "cell_type": "code",
   "execution_count": 21,
   "metadata": {
    "collapsed": false,
    "slideshow": {
     "slide_type": "fragment"
    }
   },
   "outputs": [
    {
     "data": {
      "text/plain": [
       "'hahaha'"
      ]
     },
     "execution_count": 21,
     "metadata": {},
     "output_type": "execute_result"
    }
   ],
   "source": [
    "haRegex = re.compile(r'(ha){3,5}?')\n",
    "haRegex.search('hahahahaha').group()"
   ]
  },
  {
   "cell_type": "markdown",
   "metadata": {
    "slideshow": {
     "slide_type": "slide"
    }
   },
   "source": [
    "|Character class |Represents                                      |\n",
    "|:--------------:|:----------------------------------------------:|\n",
    "|\\d              |numeric digits 0-9                              |\n",
    "|\\D              |everything BUT digits 0-9                       |\n",
    "|\\w              |any letter, numeric or underscore character     |\n",
    "|\\W              |everything BUT letters, numerics, or underscores|\n",
    "|\\s              |spaces, tabs, and newline characters            |\n",
    "|\\S              |everything BUT spaces, tabs, and newlines       |"
   ]
  },
  {
   "cell_type": "markdown",
   "metadata": {
    "collapsed": true,
    "slideshow": {
     "slide_type": "slide"
    }
   },
   "source": [
    "|Regex symbols    |Their function                                         |\n",
    "|:---------------:|:-----------------------------------------------------:|\n",
    "|?                |matches zero or one                                    |\n",
    "|\\*               |matches zero or more                                   |\n",
    "|+                |matches one or more                                    |\n",
    "|{n}              |matches exactly n                                      |\n",
    "|{n,}             |matches n or more                                      |\n",
    "|{,m}             |matches 0 to m                                         |\n",
    "|{n,m}            |matches at least n and at most m                       |\n",
    "|{n,m}?, \\*?, +?  |performs a non-greedy(lazy) match                      |\n",
    "|^spam            |the string must begin with spam                        |\n",
    "|spam$            |the string must end with spam                          |\n",
    "|.                |matches any character except newlines                  |\n",
    "|\\d, \\w, \\s       |match a digit, word, and space character respectively  |\n",
    "|\\D, \\W, \\S       |match anything BUT a digit word or space character     |\n",
    "|[abc]            |matches any character between the brackets             |\n",
    "|[^abc]           |matches any character but the ones between the brackets|"
   ]
  },
  {
   "cell_type": "code",
   "execution_count": null,
   "metadata": {
    "collapsed": true,
    "slideshow": {
     "slide_type": "slide"
    }
   },
   "outputs": [],
   "source": [
    "re.IGNORECASE\n",
    "re.DOTALL\n",
    "re.VERBOSE"
   ]
  },
  {
   "cell_type": "code",
   "execution_count": 22,
   "metadata": {
    "collapsed": false,
    "slideshow": {
     "slide_type": "subslide"
    }
   },
   "outputs": [
    {
     "name": "stdout",
     "output_type": "stream",
     "text": [
      "['HELLO', 'hello']\n"
     ]
    }
   ],
   "source": [
    "helloRegex = re.compile(r'hello', re.IGNORECASE)\n",
    "print(helloRegex.findall('I said \"HELLO!\" to the man after he said hello to me'))"
   ]
  },
  {
   "cell_type": "code",
   "execution_count": 24,
   "metadata": {
    "collapsed": false,
    "slideshow": {
     "slide_type": "slide"
    }
   },
   "outputs": [
    {
     "name": "stdout",
     "output_type": "stream",
     "text": [
      "Batman is love\n"
     ]
    }
   ],
   "source": [
    "dotallRegex = re.compile(r'.*')\n",
    "print(dotallRegex.search('Batman is love\\nBatman is life').group())"
   ]
  },
  {
   "cell_type": "code",
   "execution_count": 25,
   "metadata": {
    "collapsed": false,
    "slideshow": {
     "slide_type": "fragment"
    }
   },
   "outputs": [
    {
     "name": "stdout",
     "output_type": "stream",
     "text": [
      "Batman is love\n",
      "Batman is life\n"
     ]
    }
   ],
   "source": [
    "dotallRegex = re.compile(r'.*', re.DOTALL)\n",
    "print(dotallRegex.search('Batman is love\\nBatman is life').group())"
   ]
  },
  {
   "cell_type": "code",
   "execution_count": 26,
   "metadata": {
    "collapsed": true,
    "slideshow": {
     "slide_type": "slide"
    }
   },
   "outputs": [],
   "source": [
    "phoneRegex = re.compile(r'((\\d{3}|\\(\\d{3}\\))?(\\s|-|\\.)?\\d{3}(\\s|-|\\.)\\d{4}(\\s*(ext|x|ext.)\\s*\\d{2,5})?)')"
   ]
  },
  {
   "cell_type": "code",
   "execution_count": 27,
   "metadata": {
    "collapsed": true,
    "slideshow": {
     "slide_type": "subslide"
    }
   },
   "outputs": [],
   "source": [
    "phoneRegex = re.compile(r'''(\n",
    "                            (\\d{3}|\\(\\d{3}\\))?\n",
    "                            (\\s|-|\\.)?\n",
    "                            \\d{3}\n",
    "                            (\\s|-|\\.)\n",
    "                            \\d{4}\n",
    "                            (\\s*(ext|x|ext.)\\s*\\d{2,5})?\n",
    "                            )''', re.VERBOSE)"
   ]
  },
  {
   "cell_type": "code",
   "execution_count": null,
   "metadata": {
    "collapsed": true,
    "slideshow": {
     "slide_type": "slide"
    }
   },
   "outputs": [],
   "source": [
    "re.compile(r'example string', re.VERBOSE | re.IGNORECASE)"
   ]
  },
  {
   "cell_type": "markdown",
   "metadata": {
    "slideshow": {
     "slide_type": "slide"
    }
   },
   "source": [
    "<h1>Homework:</h1>\n",
    "<strong>IP address Regex!</strong>"
   ]
  }
 ],
 "metadata": {
  "celltoolbar": "Slideshow",
  "kernelspec": {
   "display_name": "Python 3",
   "language": "python",
   "name": "python3"
  },
  "language_info": {
   "codemirror_mode": {
    "name": "ipython",
    "version": 3
   },
   "file_extension": ".py",
   "mimetype": "text/x-python",
   "name": "python",
   "nbconvert_exporter": "python",
   "pygments_lexer": "ipython3",
   "version": "3.4.3"
  }
 },
 "nbformat": 4,
 "nbformat_minor": 0
}
