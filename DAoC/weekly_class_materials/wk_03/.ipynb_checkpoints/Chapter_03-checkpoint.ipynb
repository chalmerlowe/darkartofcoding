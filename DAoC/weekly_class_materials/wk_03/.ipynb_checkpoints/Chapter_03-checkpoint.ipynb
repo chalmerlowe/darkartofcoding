{
 "cells": [
  {
   "cell_type": "markdown",
   "metadata": {
    "slideshow": {
     "slide_type": "slide"
    }
   },
   "source": [
    "<h1>Welcome to the Dark Art of Coding:</h1>\n",
    "<h2>Introduction to Python</h2>\n",
    "Chapter 03: Functions"
   ]
  },
  {
   "cell_type": "markdown",
   "metadata": {
    "slideshow": {
     "slide_type": "slide"
    }
   },
   "source": [
    "<h1>Today's class</h1>\n",
    "<ul>\n",
    "<li><strong>Functions</strong></li>\n",
    "<li><strong>Function arguments</strong></li>\n",
    "<li><strong>Return statement</strong></li>\n",
    "<li><strong>None value</strong></li>\n",
    "<li><strong>Try & Except statements</strong></li>\n",
    "</ul>"
   ]
  },
  {
   "cell_type": "code",
   "execution_count": 2,
   "metadata": {
    "collapsed": false,
    "slideshow": {
     "slide_type": "slide"
    }
   },
   "outputs": [
    {
     "name": "stdout",
     "output_type": "stream",
     "text": [
      "Batman\n",
      "Superman\n",
      "Flash\n",
      "Batman\n",
      "Superman\n",
      "Flash\n",
      "Batman\n",
      "Superman\n",
      "Flash\n"
     ]
    }
   ],
   "source": [
    "print('Batman')\n",
    "print('Superman')\n",
    "print('Flash')\n",
    "print('Batman')\n",
    "print('Superman')\n",
    "print('Flash')\n",
    "print('Batman')\n",
    "print('Superman')\n",
    "print('Flash')"
   ]
  },
  {
   "cell_type": "code",
   "execution_count": 8,
   "metadata": {
    "collapsed": false,
    "scrolled": true,
    "slideshow": {
     "slide_type": "subslide"
    }
   },
   "outputs": [
    {
     "name": "stdout",
     "output_type": "stream",
     "text": [
      "Batman\n",
      "Superman\n",
      "Flash\n",
      "Batman\n",
      "Superman\n",
      "Flash\n",
      "Batman\n",
      "Superman\n",
      "Flash\n"
     ]
    }
   ],
   "source": [
    "# Defining a Function\n",
    "def hero():\n",
    "    print('Batman')\n",
    "    print('Superman')\n",
    "    print('Flash')\n",
    "\n",
    "hero()\n",
    "hero()\n",
    "hero()"
   ]
  },
  {
   "cell_type": "markdown",
   "metadata": {
    "slideshow": {
     "slide_type": "slide"
    }
   },
   "source": [
    "<h1>Reasons to use functions</h1>\n",
    "<ul>\n",
    "<li>Deduplicates code</li>\n",
    "<li>Makes code easier to read, write, and understand</li>\n",
    "<li>Makes code more reusable</li>\n",
    "</ul>"
   ]
  },
  {
   "cell_type": "code",
   "execution_count": 11,
   "metadata": {
    "collapsed": false,
    "slideshow": {
     "slide_type": "slide"
    }
   },
   "outputs": [
    {
     "name": "stdout",
     "output_type": "stream",
     "text": [
      "Batman has saved the day yet again!\n",
      "The Arrow has saved the day yet again!\n",
      "My friend Steve has saved the day yet again!\n"
     ]
    }
   ],
   "source": [
    "# Function arguments\n",
    "def superhero(hero):\n",
    "    print(hero + ' has saved the day yet again!')\n",
    "\n",
    "superhero('Batman')\n",
    "superhero('The Arrow')\n",
    "superhero('My friend Steve')"
   ]
  },
  {
   "cell_type": "code",
   "execution_count": 57,
   "metadata": {
    "collapsed": false,
    "slideshow": {
     "slide_type": "slide"
    }
   },
   "outputs": [
    {
     "name": "stdout",
     "output_type": "stream",
     "text": [
      "I'm Batman\n"
     ]
    }
   ],
   "source": [
    "# Function return\n",
    "import random\n",
    "def hero(num):\n",
    "    if num == 1:\n",
    "        return \"I'm Batman\"\n",
    "    elif num == 2:\n",
    "        return \"Aquaman\"\n",
    "    elif num == 3:\n",
    "        return \"Daredevil\"\n",
    "\n",
    "r = random.randint(1, 3)\n",
    "ourHero = hero(r)\n",
    "print(ourHero)"
   ]
  },
  {
   "cell_type": "code",
   "execution_count": 63,
   "metadata": {
    "collapsed": false,
    "slideshow": {
     "slide_type": "fragment"
    }
   },
   "outputs": [
    {
     "name": "stdout",
     "output_type": "stream",
     "text": [
      "I'm Batman\n"
     ]
    }
   ],
   "source": [
    "print(hero(random.randint(1, 3)))"
   ]
  },
  {
   "cell_type": "code",
   "execution_count": 6,
   "metadata": {
    "collapsed": false,
    "slideshow": {
     "slide_type": "slide"
    }
   },
   "outputs": [
    {
     "name": "stdout",
     "output_type": "stream",
     "text": [
      "Superheroes better than Batman\n"
     ]
    },
    {
     "data": {
      "text/plain": [
       "True"
      ]
     },
     "execution_count": 6,
     "metadata": {},
     "output_type": "execute_result"
    }
   ],
   "source": [
    "example = print('Superheroes better than Batman')\n",
    "None == example"
   ]
  },
  {
   "cell_type": "code",
   "execution_count": 1,
   "metadata": {
    "collapsed": false,
    "slideshow": {
     "slide_type": "slide"
    }
   },
   "outputs": [
    {
     "name": "stdout",
     "output_type": "stream",
     "text": [
      "I'm\n",
      "batman\n"
     ]
    }
   ],
   "source": [
    "print(\"I'm\")\n",
    "print('Batman')"
   ]
  },
  {
   "cell_type": "code",
   "execution_count": 2,
   "metadata": {
    "collapsed": false,
    "slideshow": {
     "slide_type": "fragment"
    }
   },
   "outputs": [
    {
     "name": "stdout",
     "output_type": "stream",
     "text": [
      "I'mbatman\n"
     ]
    }
   ],
   "source": [
    "print(\"I'm\", end='')\n",
    "print('Batman')"
   ]
  },
  {
   "cell_type": "code",
   "execution_count": 3,
   "metadata": {
    "collapsed": false,
    "slideshow": {
     "slide_type": "slide"
    }
   },
   "outputs": [
    {
     "name": "stdout",
     "output_type": "stream",
     "text": [
      "Batman Superman Flash\n"
     ]
    }
   ],
   "source": [
    "print('Batman', 'Superman', 'Flash')"
   ]
  },
  {
   "cell_type": "code",
   "execution_count": 5,
   "metadata": {
    "collapsed": false,
    "slideshow": {
     "slide_type": "fragment"
    }
   },
   "outputs": [
    {
     "name": "stdout",
     "output_type": "stream",
     "text": [
      "Batman>Superman>Green lantern\n"
     ]
    }
   ],
   "source": [
    "print('Batman', 'Superman', 'Green lantern', sep='>')"
   ]
  },
  {
   "cell_type": "markdown",
   "metadata": {
    "slideshow": {
     "slide_type": "slide"
    }
   },
   "source": [
    "<h1>Scope</h1>\n",
    "<strong>Global scope</strong>\n",
    "<ul>\n",
    "<li>Where standard variables are stored</li>\n",
    "<li>Can be used anywhere</li>\n",
    "<li>Only destroyed when program exits</li>\n",
    "</ul>"
   ]
  },
  {
   "cell_type": "markdown",
   "metadata": {
    "slideshow": {
     "slide_type": "fragment"
    }
   },
   "source": [
    "<strong>Local scope</strong>\n",
    "<ul>\n",
    "<li>Only in functions</li>\n",
    "<li>Overrides global variables</li>\n",
    "<li>Destroyed when function exits</li>\n",
    "</ul>"
   ]
  },
  {
   "cell_type": "code",
   "execution_count": 8,
   "metadata": {
    "collapsed": false,
    "slideshow": {
     "slide_type": "subslide"
    }
   },
   "outputs": [
    {
     "name": "stdout",
     "output_type": "stream",
     "text": [
      "global\n",
      "global\n",
      "local\n",
      "global\n"
     ]
    }
   ],
   "source": [
    "var = 'global'\n",
    "print(var)         # Using global variable\n",
    "\n",
    "def func():\n",
    "    print(var)     # Using global variable\n",
    "\n",
    "def func2():\n",
    "    var = 'local'  # Assigning local variable\n",
    "    print(var)     # Using local variable\n",
    "\n",
    "func()\n",
    "func2()\n",
    "print(var)         # Using global variable"
   ]
  },
  {
   "cell_type": "markdown",
   "metadata": {
    "slideshow": {
     "slide_type": "slide"
    }
   },
   "source": [
    "<strong>Local scope</strong>\n",
    "<br>\n",
    "Local variables cannot be used in other functions"
   ]
  },
  {
   "cell_type": "code",
   "execution_count": 14,
   "metadata": {
    "collapsed": false,
    "slideshow": {
     "slide_type": "fragment"
    }
   },
   "outputs": [
    {
     "name": "stdout",
     "output_type": "stream",
     "text": [
      "99\n"
     ]
    }
   ],
   "source": [
    "def func():\n",
    "    var = 99       # Assigning local variable\n",
    "    func2()\n",
    "    print(var)     # Using local variable from this function\n",
    "\n",
    "def func2():\n",
    "    var = 42       # Assigning own local variable\n",
    "\n",
    "func()"
   ]
  },
  {
   "cell_type": "markdown",
   "metadata": {
    "slideshow": {
     "slide_type": "slide"
    }
   },
   "source": [
    "<h1>The global statement</h1>\n",
    "Allows you to assign a global variable in a function"
   ]
  },
  {
   "cell_type": "code",
   "execution_count": 18,
   "metadata": {
    "collapsed": false,
    "slideshow": {
     "slide_type": "fragment"
    }
   },
   "outputs": [
    {
     "name": "stdout",
     "output_type": "stream",
     "text": [
      "reassigned global\n"
     ]
    }
   ],
   "source": [
    "var = 'global'                 # Assigning global variable\n",
    "\n",
    "def func():\n",
    "    global var                 # Variable declared global\n",
    "    var = 'reassigned global'  # Reassigning global variable\n",
    "\n",
    "func()\n",
    "print(var)"
   ]
  },
  {
   "cell_type": "markdown",
   "metadata": {
    "slideshow": {
     "slide_type": "slide"
    }
   },
   "source": [
    "<h1>Four rules to tell if a variable is global or not</h1>\n",
    "<ol>\n",
    "<strong><li>If a variable is being used in global scope (outside of functions) then it is a global variable</li></strong>\n",
    "<strong><li>If there is a global statement for that variable in that function then it is a global variable</li></strong>\n",
    "<strong><li>Otherwise, if the variable is used in an assignment statement inside of a function then it is a local variable</li></strong>\n",
    "<strong><li>But if the variable is not used in an assignment statement then it is a global variable</li></strong>\n",
    "</ol>"
   ]
  },
  {
   "cell_type": "code",
   "execution_count": 20,
   "metadata": {
    "collapsed": false
   },
   "outputs": [
    {
     "ename": "UnboundLocalError",
     "evalue": "local variable 'var' referenced before assignment",
     "output_type": "error",
     "traceback": [
      "\u001b[1;31m---------------------------------------------------------------------------\u001b[0m",
      "\u001b[1;31mUnboundLocalError\u001b[0m                         Traceback (most recent call last)",
      "\u001b[1;32m<ipython-input-20-a0e29e3d7fdd>\u001b[0m in \u001b[0;36m<module>\u001b[1;34m()\u001b[0m\n\u001b[0;32m      4\u001b[0m     \u001b[0mvar\u001b[0m \u001b[1;33m=\u001b[0m \u001b[1;34m'local'\u001b[0m\u001b[1;33m\u001b[0m\u001b[0m\n\u001b[0;32m      5\u001b[0m \u001b[1;33m\u001b[0m\u001b[0m\n\u001b[1;32m----> 6\u001b[1;33m \u001b[0mfunc\u001b[0m\u001b[1;33m(\u001b[0m\u001b[1;33m)\u001b[0m\u001b[1;33m\u001b[0m\u001b[0m\n\u001b[0m",
      "\u001b[1;32m<ipython-input-20-a0e29e3d7fdd>\u001b[0m in \u001b[0;36mfunc\u001b[1;34m()\u001b[0m\n\u001b[0;32m      1\u001b[0m \u001b[0mvar\u001b[0m \u001b[1;33m=\u001b[0m \u001b[1;34m'global'\u001b[0m\u001b[1;33m\u001b[0m\u001b[0m\n\u001b[0;32m      2\u001b[0m \u001b[1;32mdef\u001b[0m \u001b[0mfunc\u001b[0m\u001b[1;33m(\u001b[0m\u001b[1;33m)\u001b[0m\u001b[1;33m:\u001b[0m\u001b[1;33m\u001b[0m\u001b[0m\n\u001b[1;32m----> 3\u001b[1;33m     \u001b[0mprint\u001b[0m\u001b[1;33m(\u001b[0m\u001b[0mvar\u001b[0m\u001b[1;33m)\u001b[0m     \u001b[1;31m#ERROR\u001b[0m\u001b[1;33m\u001b[0m\u001b[0m\n\u001b[0m\u001b[0;32m      4\u001b[0m     \u001b[0mvar\u001b[0m \u001b[1;33m=\u001b[0m \u001b[1;34m'local'\u001b[0m\u001b[1;33m\u001b[0m\u001b[0m\n\u001b[0;32m      5\u001b[0m \u001b[1;33m\u001b[0m\u001b[0m\n",
      "\u001b[1;31mUnboundLocalError\u001b[0m: local variable 'var' referenced before assignment"
     ]
    }
   ],
   "source": [
    "var = 'global'\n",
    "def func():\n",
    "    print(var)     #ERROR\n",
    "    var = 'local'\n",
    "\n",
    "func()"
   ]
  }
 ],
 "metadata": {
  "celltoolbar": "Slideshow",
  "kernelspec": {
   "display_name": "Python 3",
   "language": "python",
   "name": "python3"
  },
  "language_info": {
   "codemirror_mode": {
    "name": "ipython",
    "version": 3
   },
   "file_extension": ".py",
   "mimetype": "text/x-python",
   "name": "python",
   "nbconvert_exporter": "python",
   "pygments_lexer": "ipython3",
   "version": "3.4.3"
  }
 },
 "nbformat": 4,
 "nbformat_minor": 0
}
