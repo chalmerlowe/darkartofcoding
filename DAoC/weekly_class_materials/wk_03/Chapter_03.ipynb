{
 "cells": [
  {
   "cell_type": "markdown",
   "metadata": {
    "slideshow": {
     "slide_type": "slide"
    }
   },
   "source": [
    "<h1>Welcome to the Dark Art of Coding:</h1>\n",
    "<h2>Introduction to Python</h2>\n",
    "Chapter 03: Functions"
   ]
  },
  {
   "cell_type": "markdown",
   "metadata": {
    "slideshow": {
     "slide_type": "slide"
    }
   },
   "source": [
    "<h1>Today's class</h1>\n",
    "<ul>\n",
    "<li><strong>Functions</strong></li>\n",
    "<li><strong>Function arguments</strong></li>\n",
    "<li><strong>Return statement</strong></li>\n",
    "<li><strong>Try & Except statements</strong></li>\n",
    "</ul>"
   ]
  },
  {
   "cell_type": "code",
   "execution_count": 2,
   "metadata": {
    "collapsed": false,
    "slideshow": {
     "slide_type": "slide"
    }
   },
   "outputs": [
    {
     "name": "stdout",
     "output_type": "stream",
     "text": [
      "HEY\n",
      "HO\n",
      "LET'S GO\n",
      "HEY\n",
      "HO\n",
      "LET'S GO\n",
      "HEY\n",
      "HO\n",
      "LET'S GO\n"
     ]
    }
   ],
   "source": [
    "print('HEY')\n",
    "print('HO')\n",
    "print(\"LET'S GO\")\n",
    "print('HEY')\n",
    "print('HO')\n",
    "print(\"LET'S GO\")\n",
    "print('HEY')\n",
    "print('HO')\n",
    "print(\"LET'S GO\")"
   ]
  },
  {
   "cell_type": "code",
   "execution_count": 1,
   "metadata": {
    "collapsed": false,
    "slideshow": {
     "slide_type": "slide"
    }
   },
   "outputs": [
    {
     "name": "stdout",
     "output_type": "stream",
     "text": [
      "HEY\n",
      "HO\n",
      "LET'S GO\n",
      "HEY\n",
      "HO\n",
      "LET'S GO\n",
      "HEY\n",
      "HO\n",
      "LET'S GO\n"
     ]
    }
   ],
   "source": [
    "#Defining a Function\n",
    "def hello():\n",
    "    print('HEY')\n",
    "    print('HO')\n",
    "    print(\"LET'S GO\")\n",
    "hello()\n",
    "hello()\n",
    "hello()"
   ]
  },
  {
   "cell_type": "markdown",
   "metadata": {
    "slideshow": {
     "slide_type": "slide"
    }
   },
   "source": [
    "<h1>Reasons to use functions</h1>\n",
    "<ul>\n",
    "<li>Shorter easier to read code</li>\n",
    "<li>Easier to type</li>\n",
    "<li>Reusable code</li>\n",
    "</ul>"
   ]
  }
 ],
 "metadata": {
  "celltoolbar": "Slideshow",
  "kernelspec": {
   "display_name": "Python 3",
   "language": "python",
   "name": "python3"
  },
  "language_info": {
   "codemirror_mode": {
    "name": "ipython",
    "version": 3
   },
   "file_extension": ".py",
   "mimetype": "text/x-python",
   "name": "python",
   "nbconvert_exporter": "python",
   "pygments_lexer": "ipython3",
   "version": "3.4.3"
  }
 },
 "nbformat": 4,
 "nbformat_minor": 0
}
